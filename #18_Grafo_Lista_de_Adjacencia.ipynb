{
 "cells": [
  {
   "cell_type": "code",
   "execution_count": 1,
   "metadata": {},
   "outputs": [],
   "source": [
    "## Lista de Vértices\n",
    "# A B\n",
    "# B C\n",
    "# B D\n",
    "# C B\n",
    "# C E\n",
    "# D A\n",
    "# E B"
   ]
  },
  {
   "cell_type": "markdown",
   "metadata": {},
   "source": [
    "# Representação Explícita"
   ]
  },
  {
   "cell_type": "code",
   "execution_count": 11,
   "metadata": {},
   "outputs": [
    {
     "name": "stdout",
     "output_type": "stream",
     "text": [
      "Vertices\n",
      "B\n",
      "C\n",
      "D\n",
      "B\n",
      "E\n",
      "A\n",
      "B\n"
     ]
    }
   ],
   "source": [
    "grafo = {'A': ['B'],\n",
    "         'B': ['C', 'D'],\n",
    "         'C': ['B', 'E'],\n",
    "         'D': ['A'],\n",
    "         'E': ['B']\n",
    "        }\n",
    "print('Vertices')\n",
    "for v in grafo:\n",
    "    #print(v) #vertices\n",
    "    for u in grafo[v]:\n",
    "        print(u) #arestas"
   ]
  },
  {
   "cell_type": "markdown",
   "metadata": {},
   "source": [
    "# Criando uma Classe Grafo"
   ]
  },
  {
   "cell_type": "code",
   "execution_count": 12,
   "metadata": {},
   "outputs": [],
   "source": [
    "# obter a lista de vértices do grafo\n",
    "# obter a lista de arestas\n",
    "# verificar se existe uma aresta entre dois vértices\n",
    "# adicionar uma aresta entre dois vértices"
   ]
  },
  {
   "cell_type": "code",
   "execution_count": 13,
   "metadata": {},
   "outputs": [],
   "source": [
    "from collections import defaultdict"
   ]
  },
  {
   "cell_type": "code",
   "execution_count": 14,
   "metadata": {},
   "outputs": [],
   "source": [
    "class Grafo(object):\n",
    "    def __init__(self, arestas, direcionado=False):\n",
    "        self.adj = defaultdict(set)\n",
    "        self.direcionado = direcionado\n",
    "        self.adiciona_arestas(arestas)\n",
    "    \n",
    "    def get_vertices(self):\n",
    "        return list(self.adj.keys())\n",
    "    \n",
    "    def get_arestas(self):\n",
    "        return [(k, v) for k in self.adj.keys() for v in self.adj[k]]\n",
    "    \n",
    "    def adiciona_arestas(self, arestas):\n",
    "        for u, v in arestas:\n",
    "            self.adiciona_arco(u, v)\n",
    "    \n",
    "    def adiciona_arco(self, u, v):\n",
    "        self.adj[u].add(v)\n",
    "        \n",
    "        if not self.direcionado:\n",
    "            self.adj[v].add(u)\n",
    "            \n",
    "    def existe_aresta(self, u, v):\n",
    "        return u in self.adj[v] and v in self.adj[u]\n",
    "    \n",
    "    def __len__(self):\n",
    "        return len(self.adj)\n",
    "    \n",
    "    def __getitem__(self, v):\n",
    "        return self.adj[v]\n",
    "    "
   ]
  },
  {
   "cell_type": "code",
   "execution_count": 18,
   "metadata": {},
   "outputs": [
    {
     "name": "stdout",
     "output_type": "stream",
     "text": [
      "defaultdict(<class 'set'>, {'A': {'B'}, 'B': {'C', 'D'}, 'C': {'E', 'B'}, 'D': {'A'}, 'E': {'B'}})\n"
     ]
    }
   ],
   "source": [
    "arestas = [('A', 'B'), ('B', 'C'), ('B', 'D'), ('C', 'B'),\n",
    "           ('C', 'E'), ('D', 'A'), ('E', 'B')]\n",
    "\n",
    "grafo = Grafo(arestas, direcionado=True)\n",
    "print(grafo.adj)"
   ]
  },
  {
   "cell_type": "code",
   "execution_count": 20,
   "metadata": {},
   "outputs": [
    {
     "name": "stdout",
     "output_type": "stream",
     "text": [
      "['A', 'B', 'C', 'D', 'E']\n"
     ]
    }
   ],
   "source": [
    "print(grafo.get_vertices())"
   ]
  },
  {
   "cell_type": "code",
   "execution_count": null,
   "metadata": {},
   "outputs": [],
   "source": []
  }
 ],
 "metadata": {
  "kernelspec": {
   "display_name": "Python 3",
   "language": "python",
   "name": "python3"
  },
  "language_info": {
   "codemirror_mode": {
    "name": "ipython",
    "version": 3
   },
   "file_extension": ".py",
   "mimetype": "text/x-python",
   "name": "python",
   "nbconvert_exporter": "python",
   "pygments_lexer": "ipython3",
   "version": "3.7.6"
  }
 },
 "nbformat": 4,
 "nbformat_minor": 4
}
