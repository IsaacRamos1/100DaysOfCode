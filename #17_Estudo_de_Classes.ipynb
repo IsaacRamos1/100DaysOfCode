{
 "cells": [
  {
   "cell_type": "code",
   "execution_count": 17,
   "metadata": {},
   "outputs": [],
   "source": [
    "# marca, RAM, Plc. Video\n",
    "class Carro:\n",
    "    def __init__(self, marca, consumo, cor):\n",
    "        self.marca = marca\n",
    "        self.consumo = consumo\n",
    "        self.cor = cor\n",
    "    \n",
    "    def TocarMusica(self, musica):\n",
    "        print('Tocando: ' + musica)\n",
    "    \n",
    "    def Acelerar(self):\n",
    "        print('Andando')\n",
    "        \n",
    "    def Gasolina(self):\n",
    "        prin('Tanque Cheio')\n",
    "    \n",
    "    pass"
   ]
  },
  {
   "cell_type": "code",
   "execution_count": 18,
   "metadata": {},
   "outputs": [],
   "source": [
    "car1 = Carro('BMW', '15km/l', 'Vermelho')"
   ]
  },
  {
   "cell_type": "code",
   "execution_count": 19,
   "metadata": {},
   "outputs": [
    {
     "name": "stdout",
     "output_type": "stream",
     "text": [
      "Tocando: Signs\n"
     ]
    }
   ],
   "source": [
    "car1.TocarMusica('Signs')"
   ]
  },
  {
   "cell_type": "code",
   "execution_count": null,
   "metadata": {},
   "outputs": [],
   "source": []
  }
 ],
 "metadata": {
  "kernelspec": {
   "display_name": "Python 3",
   "language": "python",
   "name": "python3"
  },
  "language_info": {
   "codemirror_mode": {
    "name": "ipython",
    "version": 3
   },
   "file_extension": ".py",
   "mimetype": "text/x-python",
   "name": "python",
   "nbconvert_exporter": "python",
   "pygments_lexer": "ipython3",
   "version": "3.7.6"
  }
 },
 "nbformat": 4,
 "nbformat_minor": 4
}
