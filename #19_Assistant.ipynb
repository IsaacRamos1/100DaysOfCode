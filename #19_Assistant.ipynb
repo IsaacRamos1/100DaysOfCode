{
 "cells": [
  {
   "cell_type": "code",
   "execution_count": 18,
   "metadata": {},
   "outputs": [],
   "source": [
    "import pyttsx3\n",
    "import speech_recognition as sr\n",
    "import webbrowser\n",
    "import wikipedia\n",
    "import requests, json\n",
    "import sys\n",
    "import urllib.request\n",
    "import pafy\n",
    "import vlc\n",
    "import re\n",
    "from googletrans import Translator"
   ]
  },
  {
   "cell_type": "code",
   "execution_count": 19,
   "metadata": {},
   "outputs": [],
   "source": [
    "#speak function\n",
    "def speak(audio):\n",
    "    engine = pyttsx3.init('dummy')\n",
    "    voices = engine.getProperty('voices')\n",
    "    engine.setProperty('voice', voices[0].id)\n",
    "    engine.say(audio)\n",
    "    engine.runAndWait()\n",
    "\n",
    "def Hello():\n",
    "    speak('Hello sir. How can i help you')"
   ]
  },
  {
   "cell_type": "code",
   "execution_count": 20,
   "metadata": {},
   "outputs": [],
   "source": [
    "def takeCommand():\n",
    "    r = sr.Recognizer()\n",
    "    with sr.Microphone() as source:\n",
    "        print(\"*ouvindo*\")\n",
    "        #r.pause_threshold = 0.6\n",
    "        audio = r.listen(source, phrase_time_limit=5)\n",
    "        try:\n",
    "            Query = r.recognize_google(audio, language= 'pt-BR')\n",
    "            print('[Eu]: ', Query.lower())\n",
    "        except Exception as e:\n",
    "            print(e)\n",
    "            print('[Alex]: Diga novamente senhor.')\n",
    "            return 'None'\n",
    "        return Query"
   ]
  },
  {
   "cell_type": "code",
   "execution_count": 70,
   "metadata": {},
   "outputs": [],
   "source": [
    "def get_weather(name):\n",
    "\n",
    "    api_key = \"7977246ac14ebe1f0dfef2e0373e8ee2\"\n",
    "\n",
    "    # base_url variable to store url \n",
    "    base_url = \"http://api.openweathermap.org/data/2.5/weather?\"\n",
    "\n",
    "    # Give city name \n",
    "    print(\"City:\" + name)\n",
    "    #city_name = name\n",
    "\n",
    "    complete_url = base_url + \"appid=\" + api_key + \"&q=\" + name\n",
    "    response = requests.get(complete_url) \n",
    "\n",
    "    x = response.json() \n",
    "    print(x['cod'])\n",
    "    if x[\"cod\"] != \"404\": \n",
    "\n",
    "        y = x[\"main\"] \n",
    "\n",
    "        current_temperature = y[\"temp\"]\n",
    "\n",
    "        current_pressure = y[\"pressure\"] \n",
    "\n",
    "        current_humidiy = y[\"humidity\"] \n",
    "\n",
    "        z = x[\"weather\"] \n",
    "\n",
    "        weather_description = z[0][\"description\"] \n",
    "        \n",
    "        w = x['sys']\n",
    "        country = w['country']\n",
    "        \n",
    "        # print following values \n",
    "        celsius_temperature = current_temperature - 273.15\n",
    "        bar_value = current_pressure/1000\n",
    "        \n",
    "        weather_description = translate(str(weather_description))\n",
    "        \n",
    "        print(\" País:\" + country \n",
    "              + \"\\n Temperatura = \" +\n",
    "                        str(celsius_temperature) + \n",
    "              \"\\n Pessão Atmosférica = \" +\n",
    "                        str(bar_value) +\n",
    "              \"\\n Umidade = \" +\n",
    "                        str(current_humidiy) + \"%\" +\n",
    "              \"\\n Descrição = \" +\n",
    "                        str(weather_description))\n",
    "\n",
    "    else: \n",
    "        print(\"[Alex]: Cidade não encontrada. \") "
   ]
  },
  {
   "cell_type": "code",
   "execution_count": 62,
   "metadata": {},
   "outputs": [],
   "source": [
    "recepcao = ['oi', 'olá', 'eae', 'yo', 'iai']\n",
    "cumprimento = ['como você está', \"como está\", 'tudo bem', 'tudo bem com você']"
   ]
  },
  {
   "cell_type": "code",
   "execution_count": 63,
   "metadata": {},
   "outputs": [],
   "source": [
    "def get_video(about):\n",
    "    query = 'https://www.youtube.com/results?search_query=' + about\n",
    "    html = urllib.request.urlopen(query)\n",
    "    video_ids = re.findall(r\"watch\\?v=(\\S{11})\", html.read().decode())\n",
    "    video_link = \"https://www.youtube.com/watch?v=\" + video_ids[1]\n",
    "    \n",
    "    return video_link"
   ]
  },
  {
   "cell_type": "code",
   "execution_count": 64,
   "metadata": {},
   "outputs": [],
   "source": [
    "def translate(frase):\n",
    "    translator = Translator()\n",
    "    frase = frase.replace(\"'\", \"\")\n",
    "    return translator.translate(frase, dest='pt').text"
   ]
  },
  {
   "cell_type": "code",
   "execution_count": 67,
   "metadata": {},
   "outputs": [],
   "source": [
    "def clima(cidade):\n",
    "    cidade = cidade.replace(\" \", \"%20\")\n",
    "    get_weather(cidade)"
   ]
  },
  {
   "cell_type": "code",
   "execution_count": null,
   "metadata": {},
   "outputs": [],
   "source": []
  },
  {
   "cell_type": "code",
   "execution_count": 68,
   "metadata": {},
   "outputs": [],
   "source": [
    "def Take_query():\n",
    "    Hello()\n",
    "    while(True):\n",
    "        \n",
    "        query = takeCommand().lower()\n",
    "\n",
    "        if query in recepcao:\n",
    "            print('[Alex]: Hello sir')\n",
    "        elif query in cumprimento:\n",
    "            print('[Alex]: Im good')\n",
    "        elif 'open google' in query:\n",
    "            print('[Alex]: Opening Google ')\n",
    "            webbrowser.open('www.google.com')\n",
    "        elif 'tchau' in query:\n",
    "            print('[Alex]: Have a nice day, bye')\n",
    "            sys.exit()\n",
    "        elif 'na wikipédia' in query:\n",
    "            print('[Alex]: Checking the wikipedia ')\n",
    "            query = query.replace('na wikipédia', '')\n",
    "            result = wikipedia.summary(str(query), sentences=5)\n",
    "            print('[Alex]: According to wikipedia:')\n",
    "            result_final = translate(result)\n",
    "            print(result_final)\n",
    "        elif 'pesquisar' in query:\n",
    "            print('[Alex]: Pesquisando')\n",
    "            query = query.replace('pesquisar', '')\n",
    "            for j in search(query, tld=\"co.in\", num=1, stop=1, pause=2): \n",
    "                webbrowser.open(j)         \n",
    "        elif 'me diga seu nome' in query:\n",
    "            print('[Alex]: I am Alex. Your desktop Assistant')\n",
    "        elif 'no youtube' in query.lower():\n",
    "            print('[Alex]: Checking on Youtube ')\n",
    "            query = query.replace('in youtube', '')\n",
    "            query = query.split()\n",
    "            link = get_video(\"+\".join(query))\n",
    "            video = pafy.new(link)\n",
    "            best = video.getbest()\n",
    "            media = vlc.MediaPlayer(best.url)\n",
    "            media.audio_set_volume(50)\n",
    "            media.play()\n",
    "            \n",
    "        elif 'parar vídeo' in query:\n",
    "            try:\n",
    "                media.stop()\n",
    "            except Exception as e:\n",
    "                print('No video are playing')\n",
    "        elif 'clima em' in query:\n",
    "            try:\n",
    "                print('[Alex]: Verificando clima em')\n",
    "                query = query.replace('clima em', '')\n",
    "                query = query[1:]\n",
    "                clima(query)\n",
    "                \n",
    "            except Exception as e:\n",
    "                print('Não entendi.')"
   ]
  },
  {
   "cell_type": "code",
   "execution_count": 69,
   "metadata": {},
   "outputs": [
    {
     "name": "stdout",
     "output_type": "stream",
     "text": [
      "*ouvindo*\n",
      "[Eu]:  clima em são paulo\n",
      "[Alex]: Verificando clima em\n",
      "City:são%20paulo\n",
      "http://api.openweathermap.org/data/2.5/weather?appid=7977246ac14ebe1f0dfef2e0373e8ee2&q=são%20paulo\n",
      "200\n",
      "País:BR\n",
      " Temperatura = 22.730000000000018\n",
      " Pessão Atmosférica = 1.014\n",
      " Umidade = 83%\n",
      " Descrição = chuva moderada\n",
      "*ouvindo*\n",
      "[Eu]:  tchau\n",
      "[Alex]: Have a nice day, bye\n"
     ]
    },
    {
     "ename": "SystemExit",
     "evalue": "",
     "output_type": "error",
     "traceback": [
      "An exception has occurred, use %tb to see the full traceback.\n",
      "\u001b[1;31mSystemExit\u001b[0m\n"
     ]
    }
   ],
   "source": [
    "Take_query()"
   ]
  },
  {
   "cell_type": "code",
   "execution_count": 38,
   "metadata": {},
   "outputs": [
    {
     "name": "stdout",
     "output_type": "stream",
     "text": [
      "City:são paulo\n",
      "200\n",
      " Temperatura = 22.74000000000001\n",
      " Pessão Atmosférica = 1.014\n",
      " Umidade = 83%\n",
      " Descrição = chuva moderada\n"
     ]
    }
   ],
   "source": []
  },
  {
   "cell_type": "code",
   "execution_count": 49,
   "metadata": {},
   "outputs": [
    {
     "name": "stdout",
     "output_type": "stream",
     "text": [
      "Translated(src=en, dest=pt, text=Eu sou um rapaz, pronunciation=i'm a boy, extra_data=\"{'translat...\")\n"
     ]
    }
   ],
   "source": []
  },
  {
   "cell_type": "code",
   "execution_count": null,
   "metadata": {},
   "outputs": [],
   "source": []
  },
  {
   "cell_type": "code",
   "execution_count": null,
   "metadata": {},
   "outputs": [],
   "source": []
  }
 ],
 "metadata": {
  "kernelspec": {
   "display_name": "Python 3",
   "language": "python",
   "name": "python3"
  },
  "language_info": {
   "codemirror_mode": {
    "name": "ipython",
    "version": 3
   },
   "file_extension": ".py",
   "mimetype": "text/x-python",
   "name": "python",
   "nbconvert_exporter": "python",
   "pygments_lexer": "ipython3",
   "version": "3.7.6"
  }
 },
 "nbformat": 4,
 "nbformat_minor": 4
}
